{
 "cells": [
  {
   "cell_type": "code",
   "execution_count": 13,
   "metadata": {},
   "outputs": [
    {
     "name": "stdout",
     "output_type": "stream",
     "text": [
      "Flight cost: $80\n",
      "Total accommodation cost: $750\n",
      "Total car rental cost: $250\n",
      "Total trip cost (accommodation + car rental): $1000\n"
     ]
    }
   ],
   "source": [
    "city_flight = input(\"Which city are you flying to?\")\n",
    "num_nights = int(input(\"How many nights are you staying?\"))\n",
    "rental_days = int(input(\"How many days will you need to hire a car for?\"))\n",
    "\n",
    "cost_per_night = 150\n",
    "\n",
    "def multiply(num_nights, cost_per_night):\n",
    "    hotel_cost = num_nights * cost_per_night\n",
    "    return hotel_cost\n",
    "\n",
    "def plane_cost(city_flight):\n",
    "    if city_flight.lower() == \"barcelona\":\n",
    "        return 110\n",
    "    elif city_flight.lower() == \"stockholm\":\n",
    "        return 100\n",
    "    elif city_flight.lower() == \"lisbon\":\n",
    "        return 80\n",
    "    elif city_flight.lower() == \"brussels\":\n",
    "        return 90\n",
    "    else:\n",
    "        return \"Price not available for the selected city. Please contact support.\"\n",
    "\n",
    "# Calculate and print the plane cost\n",
    "flight_cost = plane_cost(city_flight)\n",
    "print(f\"Flight cost: ${flight_cost}\")\n",
    "\n",
    "cost_per_day_rental = 50\n",
    "\n",
    "def calculate_car_rental_cost(rental_days, cost_per_day_rental):\n",
    "    total_rental = rental_days * cost_per_day_rental\n",
    "    return total_rental\n",
    "\n",
    "# Calculate and print the total hotel cost\n",
    "total_accommodation_cost = multiply(num_nights, cost_per_night)\n",
    "print(f\"Total accommodation cost: ${total_accommodation_cost}\")\n",
    "\n",
    "# Calculate and print the total car rental cost\n",
    "total_car_rental_cost = calculate_car_rental_cost(rental_days, cost_per_day_rental)\n",
    "print(f\"Total car rental cost: ${total_car_rental_cost}\")\n",
    "\n",
    "# Calculate the total cost of the trip (hotel + car rental)\n",
    "total_cost = total_accommodation_cost + total_car_rental_cost\n",
    "print(f\"Total trip cost (accommodation + car rental): ${total_cost}\")"
   ]
  }
 ],
 "metadata": {
  "kernelspec": {
   "display_name": "Python 3",
   "language": "python",
   "name": "python3"
  },
  "language_info": {
   "codemirror_mode": {
    "name": "ipython",
    "version": 3
   },
   "file_extension": ".py",
   "mimetype": "text/x-python",
   "name": "python",
   "nbconvert_exporter": "python",
   "pygments_lexer": "ipython3",
   "version": "3.9.13"
  }
 },
 "nbformat": 4,
 "nbformat_minor": 2
}
